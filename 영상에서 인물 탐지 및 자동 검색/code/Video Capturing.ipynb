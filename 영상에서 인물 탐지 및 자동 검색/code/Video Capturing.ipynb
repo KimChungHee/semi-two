{
 "cells": [
  {
   "cell_type": "code",
   "execution_count": 11,
   "metadata": {},
   "outputs": [],
   "source": [
    "import face_recognition\n",
    "import cv2\n",
    "import os\n",
    "import copy\n",
    "from tensorflow.keras import models\n",
    "import numpy as np\n",
    "from sklearn.externals import joblib\n",
    "from selenium import webdriver\n",
    "from PIL import ImageFont, ImageDraw, Image"
   ]
  },
  {
   "cell_type": "code",
   "execution_count": 2,
   "metadata": {},
   "outputs": [
    {
     "name": "stderr",
     "output_type": "stream",
     "text": [
      "Using TensorFlow backend.\n"
     ]
    }
   ],
   "source": [
    "# 학습된 모델 불러오기 (****수정하세요****)\n",
    "model = joblib.load('BTS_classification_model2.pkl')"
   ]
  },
  {
   "cell_type": "code",
   "execution_count": 3,
   "metadata": {},
   "outputs": [],
   "source": [
    "def my_imread(filename, flags=cv2.IMREAD_COLOR, dtype=np.uint8):\n",
    "    try:\n",
    "        n = np.fromfile(filename, dtype)\n",
    "        img = cv2.imdecode(n, flags)\n",
    "        return img\n",
    "    except Exception as e:\n",
    "        print(e)\n",
    "        return None"
   ]
  },
  {
   "cell_type": "code",
   "execution_count": 16,
   "metadata": {},
   "outputs": [],
   "source": [
    "# (****categoties만 수정하세요****)\n",
    "categories = [\"BTS 제이홉\", \"BTS 지민\", \"BTS 진\", \"BTS 정국\",\n",
    "              \"BTS RM\", \"BTS 슈가\", \"BTS 뷔\"]\n",
    "roi_color = [(255, 255, 255), (0, 255, 255), (255, 0, 255), (255, 255, 0),\n",
    "            (0, 0, 255), (0, 255, 0), (255, 0, 0)]"
   ]
  },
  {
   "cell_type": "code",
   "execution_count": 13,
   "metadata": {},
   "outputs": [],
   "source": [
    "face_cascade = cv2.CascadeClassifier('haarcascade_frontalface_default.xml')\n",
    "fontpath = \"fonts/gulim.ttc\"\n",
    "font = ImageFont.truetype(fontpath, 20)"
   ]
  },
  {
   "cell_type": "code",
   "execution_count": 33,
   "metadata": {},
   "outputs": [],
   "source": [
    "count=0\n",
    "frame_count=0\n",
    "\n",
    "# (****경로 수정하세요****)\n",
    "cap=cv2.VideoCapture('img/bts_mv.mp4')\n",
    "\n",
    "        \n",
    "        \n",
    "tmp_px=20\n",
    "h_tmp_px=tmp_px//2\n",
    "while True:\n",
    "    is_ok, frame=cap.read()\n",
    "    roi=[]\n",
    "    if not is_ok:\n",
    "        break\n",
    "    gray=cv2.cvtColor(frame,cv2.COLOR_BGR2GRAY)\n",
    "    faces = face_cascade.detectMultiScale(gray, 1.3, 5)\n",
    "    if len(faces)!=0:\n",
    "        faces_n,_=faces.shape\n",
    "        for (x,y,w,h) in faces:\n",
    "            roi = frame[y:y+h, x:x+w]\n",
    "            roi=cv2.resize(roi,(100,100),interpolation=cv2.INTER_LINEAR)\n",
    "            pred_face=roi.reshape(1,100,100,3)\n",
    "            i = np.argmax(model.predict(pred_face))\n",
    "            \n",
    "            frame = cv2.rectangle(frame,(x-h_tmp_px,y-h_tmp_px),\n",
    "                                  (x+w+h_tmp_px,y+h+h_tmp_px),roi_color[i],2)\n",
    "            frame_pil = Image.fromarray(frame)\n",
    "            draw = ImageDraw.Draw(frame_pil)\n",
    "            draw.text((x,y+h+40), categories[i], font=font, fill=roi_color[i])\n",
    "            frame = np.array(frame_pil)\n",
    "            \n",
    "            key = cv2.waitKey(1)\n",
    "            if key == 13: # enter\n",
    "                driver = webdriver.Chrome('chromedriver.exe')\n",
    "                driver.implicitly_wait(1)\n",
    "                driver.get('https://search.naver.com/search.naver?sm=top_hty&fbm=1&ie=utf8&query='\n",
    "                          + categories[i])\n",
    "                break\n",
    "                \n",
    "            if cv2.waitKey(1) == 27: # esc\n",
    "                break\n",
    "    \n",
    "\n",
    "\n",
    "    cv2.imshow('video',frame)\n",
    "    if cv2.waitKey(1) == 27: \n",
    "        break\n",
    "        \n",
    "cap.release()\n",
    "cv2.destroyAllWindows()"
   ]
  }
 ],
 "metadata": {
  "kernelspec": {
   "display_name": "Python 3",
   "language": "python",
   "name": "python3"
  },
  "language_info": {
   "codemirror_mode": {
    "name": "ipython",
    "version": 3
   },
   "file_extension": ".py",
   "mimetype": "text/x-python",
   "name": "python",
   "nbconvert_exporter": "python",
   "pygments_lexer": "ipython3",
   "version": "3.7.3"
  }
 },
 "nbformat": 4,
 "nbformat_minor": 2
}
